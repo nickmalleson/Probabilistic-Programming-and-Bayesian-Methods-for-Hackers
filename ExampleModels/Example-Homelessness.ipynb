{
 "cells": [
  {
   "cell_type": "markdown",
   "metadata": {},
   "source": [
    "# Bayesian Model Example - Homelessness\n",
    "\n",
    "Basic question: have we seen a rise in homelessness in the UK in recent years? \n",
    " "
   ]
  },
  {
   "cell_type": "markdown",
   "metadata": {},
   "source": [
    "## Data\n",
    "\n",
    "Homelessness data are available from the [UK government](https://www.gov.uk/government/statistical-data-sets/live-tables-on-homelessness#homelessness-summary-local-authority-level-tables). Here we use Table 1 from the [Rough sleeping statistics England autumn 2017: tables 1, 2a, 2b and 2c](https://www.gov.uk/government/uploads/system/uploads/attachment_data/file/682006/Tables_1_and_2a_2b_2c_-_revised.xlsx) spreadsheet. I downloaded those data and made a simple"
   ]
  },
  {
   "cell_type": "code",
   "execution_count": 37,
   "metadata": {},
   "outputs": [
    {
     "data": {
      "text/plain": [
       "Text(0.5,1,'Estimate of rough sleeping in England (by street counting)')"
      ]
     },
     "execution_count": 37,
     "metadata": {},
     "output_type": "execute_result"
    },
    {
     "data": {
      "image/png": "[encoded data removed]",
      "text/plain": [
       "<matplotlib.figure.Figure at 0x1285db4e0>"
      ]
     },
     "metadata": {},
     "output_type": "display_data"
    }
   ],
   "source": [
    "import numpy as np\n",
    "from IPython.core.pylabtools import figsize\n",
    "from matplotlib import pyplot as plt\n",
    "\n",
    "\n",
    "data = np.array( [[2010, 2011, 2012, 2013, 2014, 2015, 2016, 2017], \\\n",
    "           [1768, 2181, 2309, 2414, 2744, 3569, 4134, 4751]])\n",
    "\n",
    "plt.bar(x=data[0,], height=data[1,], color=\"#348ABD\")\n",
    "plt.xlabel(\"Year\")\n",
    "plt.ylabel(\"Total\")\n",
    "plt.title(\"Estimate of rough sleeping in England (by street counting)\")"
   ]
  },
  {
   "cell_type": "markdown",
   "metadata": {},
   "source": [
    "## Model\n",
    "\n",
    "We need a model of the data (i.e. a function to represent the homelessness count given the year). Lets assume that it has been increasing linearly, so create a model of the form:\n",
    "\n",
    "$$ C_i = R x_i + A $$\n",
    "\n",
    "Where $C_i$ is the homelessness count, for year $i$, $R$ is the rate of change of homelessness, and $A$ is the intercept.\n",
    "\n",
    "Now we need prior distributions for our $R$ and $A$ variables. They are continuous, and might be negative, so assume that they are normally distributed with $\\mu$ and $\\tau$:\n",
    "\n",
    "$$R \\sim N(\\mu_R, 1/\\tau_R)$$\n",
    "\n",
    "$$A \\sim N(\\mu_A, 1/\\tau_A)$$\n",
    "\n",
    "The posterior distribution of $R$ will give us an estimate as to whether homelessness has been increasing."
   ]
  },
  {
   "cell_type": "code",
   "execution_count": 39,
   "metadata": {},
   "outputs": [],
   "source": [
    "# Simple y=mx+c funcion to model the data.\n",
    "def func (year, rate, intercept):\n",
    "    return ( year * rate ) + intercept"
   ]
  },
  {
   "cell_type": "markdown",
   "metadata": {},
   "source": [
    "Now use MCMC to model the data.\n",
    "\n",
    "Set up the variables"
   ]
  },
  {
   "cell_type": "code",
   "execution_count": 70,
   "metadata": {},
   "outputs": [],
   "source": [
    "import pymc3 as pm\n",
    "import theano.tensor as tt\n",
    "\n",
    "#year  = data[0,]\n",
    "year  = np.arange(len(data[0,]))\n",
    "count = data[1,]\n",
    "\n",
    "with pm.Model() as model:\n",
    "    # The two parameters, rate (R) and intercept (A)\n",
    "    R = pm.Normal(\"R\", mu=0, tau=0.001, testval=0)\n",
    "    A = pm.Normal(\"A\", mu=0, tau=0.001, testval=0)\n",
    "    \n",
    "    # The model (function) that estimates the count C\n",
    "    func = pm.Deterministic(\"func\", R * year + A)\n",
    "    \n",
    "    # Now the observed data. Assume they are Normal as well.\n",
    "    # XXXX Correctly link to 'func' here?\n",
    "    obs = pm.Normal('obs', mu=func, tau=0.001, observed=count)\n",
    "  \n",
    "    \n",
    "    "
   ]
  },
  {
   "cell_type": "code",
   "execution_count": null,
   "metadata": {},
   "outputs": [],
   "source": [
    "\n"
   ]
  },
  {
   "cell_type": "markdown",
   "metadata": {},
   "source": [
    "Model the data"
   ]
  },
  {
   "cell_type": "code",
   "execution_count": 71,
   "metadata": {},
   "outputs": [
    {
     "name": "stderr",
     "output_type": "stream",
     "text": [
      "logp = -1,279.8, ||grad|| = 3.57e-08: 100%|██████████| 12/12 [00:00<00:00, 890.94it/s]  \n",
      "100%|██████████| 120500/120500 [00:37<00:00, 3193.36it/s]\n"
     ]
    }
   ],
   "source": [
    "with model:\n",
    "    start = pm.find_MAP()\n",
    "    step = pm.Metropolis()\n",
    "    trace = pm.sample(120000, step=step, start=start, njobs=4)\n",
    "    burned_trace = trace[100000::2]\n"
   ]
  },
  {
   "cell_type": "markdown",
   "metadata": {},
   "source": [
    "See what happened!"
   ]
  },
  {
   "cell_type": "code",
   "execution_count": 65,
   "metadata": {},
   "outputs": [
    {
     "data": {
      "image/png": "[encoded data removed]",
      "text/plain": [
       "<matplotlib.figure.Figure at 0x128612048>"
      ]
     },
     "metadata": {},
     "output_type": "display_data"
    }
   ],
   "source": [
    "r_samples = burned_trace[\"R\"][:, None]  # best to make them 1d\n",
    "a_samples = burned_trace[\"A\"][:, None]\n",
    "\n",
    "figsize(12.5, 6)\n",
    "\n",
    "#histogram of the samples:\n",
    "plt.subplot(211)\n",
    "plt.title(r\"Posterior distributions of the variables $R, A$\")\n",
    "plt.hist(a_samples, histtype='stepfilled', bins=35, alpha=0.85,\n",
    "         label=r\"posterior of $A$ (intercept)\", color=\"#7A68A6\", normed=True)\n",
    "plt.legend()\n",
    "\n",
    "plt.subplot(212)\n",
    "plt.hist(r_samples, histtype='stepfilled', bins=35, alpha=0.85,\n",
    "         label=r\"posterior of $R$ (rate)\", color=\"#A60628\", normed=True)\n",
    "plt.legend();"
   ]
  },
  {
   "cell_type": "markdown",
   "metadata": {},
   "source": [
    "Plot the model estimates on the graph"
   ]
  },
  {
   "cell_type": "code",
   "execution_count": 60,
   "metadata": {},
   "outputs": [
    {
     "data": {
      "text/plain": [
       "array([0, 1, 2, 3, 4, 5, 6, 7])"
      ]
     },
     "execution_count": 60,
     "metadata": {},
     "output_type": "execute_result"
    }
   ],
   "source": [
    "from scipy.stats.mstats import mquantiles\n",
    "\n",
    "# vectorized bottom and top 2.5% quantiles for \"confidence interval\"\n",
    "qs = mquantiles(p_t, [0.025, 0.975], axis=0)\n",
    "plt.fill_between(t[:, 0], *qs, alpha=0.7,\n",
    "                 color=\"#7A68A6\")\n",
    "\n",
    "plt.plot(t[:, 0], qs[0], label=\"95% CI\", color=\"#7A68A6\", alpha=0.7)\n",
    "\n",
    "plt.plot(t, mean_prob_t, lw=1, ls=\"--\", color=\"k\",\n",
    "         label=\"average posterior \\nprobability of defect\")\n",
    "\n",
    "plt.xlim(t.min(), t.max())\n",
    "plt.ylim(-0.02, 1.02)\n",
    "plt.legend(loc=\"lower left\")\n",
    "plt.scatter(temperature, D, color=\"k\", s=50, alpha=0.5)\n",
    "plt.xlabel(\"temp, $t$\")\n",
    "\n",
    "plt.ylabel(\"probability estimate\")\n",
    "plt.title(\"Posterior probability estimates given temp. $t$\");\n"
   ]
  }
 ],
 "metadata": {
  "kernelspec": {
   "display_name": "Python 3",
   "language": "python",
   "name": "python3"
  },
  "language_info": {
   "codemirror_mode": {
    "name": "ipython",
    "version": 3
   },
   "file_extension": ".py",
   "mimetype": "text/x-python",
   "name": "python",
   "nbconvert_exporter": "python",
   "pygments_lexer": "ipython3",
   "version": "3.6.4"
  }
 },
 "nbformat": 4,
 "nbformat_minor": 2
}
